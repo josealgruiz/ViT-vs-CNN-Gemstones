{
  "cells": [
    {
      "cell_type": "markdown",
      "metadata": {
        "id": "1SsBut2t-c6P"
      },
      "source": [
        "Importing Dataset from Kaggle"
      ]
    },
    {
      "cell_type": "code",
      "execution_count": 1,
      "metadata": {
        "colab": {
          "base_uri": "https://localhost:8080/"
        },
        "id": "W0YnidTA97io",
        "outputId": "6c0e182d-ae78-44c0-9db6-b6bc800a0c93"
      },
      "outputs": [
        {
          "output_type": "stream",
          "name": "stdout",
          "text": [
            "Mounted at /content/drive\n"
          ]
        }
      ],
      "source": [
        "from google.colab import drive\n",
        "drive.mount('/content/drive')"
      ]
    },
    {
      "cell_type": "code",
      "execution_count": null,
      "metadata": {
        "colab": {
          "base_uri": "https://localhost:8080/",
          "height": 86
        },
        "id": "K_QgeVhw-Orl",
        "outputId": "8cce5da5-ef98-4b96-c5af-77c8f74f7e2a"
      },
      "outputs": [
        {
          "output_type": "display_data",
          "data": {
            "text/plain": [
              "<IPython.core.display.HTML object>"
            ],
            "text/html": [
              "\n",
              "     <input type=\"file\" id=\"files-7a15249a-5ce8-4e4c-b5c0-68b850ae3367\" name=\"files[]\" multiple disabled\n",
              "        style=\"border:none\" />\n",
              "     <output id=\"result-7a15249a-5ce8-4e4c-b5c0-68b850ae3367\">\n",
              "      Upload widget is only available when the cell has been executed in the\n",
              "      current browser session. Please rerun this cell to enable.\n",
              "      </output>\n",
              "      <script>// Copyright 2017 Google LLC\n",
              "//\n",
              "// Licensed under the Apache License, Version 2.0 (the \"License\");\n",
              "// you may not use this file except in compliance with the License.\n",
              "// You may obtain a copy of the License at\n",
              "//\n",
              "//      http://www.apache.org/licenses/LICENSE-2.0\n",
              "//\n",
              "// Unless required by applicable law or agreed to in writing, software\n",
              "// distributed under the License is distributed on an \"AS IS\" BASIS,\n",
              "// WITHOUT WARRANTIES OR CONDITIONS OF ANY KIND, either express or implied.\n",
              "// See the License for the specific language governing permissions and\n",
              "// limitations under the License.\n",
              "\n",
              "/**\n",
              " * @fileoverview Helpers for google.colab Python module.\n",
              " */\n",
              "(function(scope) {\n",
              "function span(text, styleAttributes = {}) {\n",
              "  const element = document.createElement('span');\n",
              "  element.textContent = text;\n",
              "  for (const key of Object.keys(styleAttributes)) {\n",
              "    element.style[key] = styleAttributes[key];\n",
              "  }\n",
              "  return element;\n",
              "}\n",
              "\n",
              "// Max number of bytes which will be uploaded at a time.\n",
              "const MAX_PAYLOAD_SIZE = 100 * 1024;\n",
              "\n",
              "function _uploadFiles(inputId, outputId) {\n",
              "  const steps = uploadFilesStep(inputId, outputId);\n",
              "  const outputElement = document.getElementById(outputId);\n",
              "  // Cache steps on the outputElement to make it available for the next call\n",
              "  // to uploadFilesContinue from Python.\n",
              "  outputElement.steps = steps;\n",
              "\n",
              "  return _uploadFilesContinue(outputId);\n",
              "}\n",
              "\n",
              "// This is roughly an async generator (not supported in the browser yet),\n",
              "// where there are multiple asynchronous steps and the Python side is going\n",
              "// to poll for completion of each step.\n",
              "// This uses a Promise to block the python side on completion of each step,\n",
              "// then passes the result of the previous step as the input to the next step.\n",
              "function _uploadFilesContinue(outputId) {\n",
              "  const outputElement = document.getElementById(outputId);\n",
              "  const steps = outputElement.steps;\n",
              "\n",
              "  const next = steps.next(outputElement.lastPromiseValue);\n",
              "  return Promise.resolve(next.value.promise).then((value) => {\n",
              "    // Cache the last promise value to make it available to the next\n",
              "    // step of the generator.\n",
              "    outputElement.lastPromiseValue = value;\n",
              "    return next.value.response;\n",
              "  });\n",
              "}\n",
              "\n",
              "/**\n",
              " * Generator function which is called between each async step of the upload\n",
              " * process.\n",
              " * @param {string} inputId Element ID of the input file picker element.\n",
              " * @param {string} outputId Element ID of the output display.\n",
              " * @return {!Iterable<!Object>} Iterable of next steps.\n",
              " */\n",
              "function* uploadFilesStep(inputId, outputId) {\n",
              "  const inputElement = document.getElementById(inputId);\n",
              "  inputElement.disabled = false;\n",
              "\n",
              "  const outputElement = document.getElementById(outputId);\n",
              "  outputElement.innerHTML = '';\n",
              "\n",
              "  const pickedPromise = new Promise((resolve) => {\n",
              "    inputElement.addEventListener('change', (e) => {\n",
              "      resolve(e.target.files);\n",
              "    });\n",
              "  });\n",
              "\n",
              "  const cancel = document.createElement('button');\n",
              "  inputElement.parentElement.appendChild(cancel);\n",
              "  cancel.textContent = 'Cancel upload';\n",
              "  const cancelPromise = new Promise((resolve) => {\n",
              "    cancel.onclick = () => {\n",
              "      resolve(null);\n",
              "    };\n",
              "  });\n",
              "\n",
              "  // Wait for the user to pick the files.\n",
              "  const files = yield {\n",
              "    promise: Promise.race([pickedPromise, cancelPromise]),\n",
              "    response: {\n",
              "      action: 'starting',\n",
              "    }\n",
              "  };\n",
              "\n",
              "  cancel.remove();\n",
              "\n",
              "  // Disable the input element since further picks are not allowed.\n",
              "  inputElement.disabled = true;\n",
              "\n",
              "  if (!files) {\n",
              "    return {\n",
              "      response: {\n",
              "        action: 'complete',\n",
              "      }\n",
              "    };\n",
              "  }\n",
              "\n",
              "  for (const file of files) {\n",
              "    const li = document.createElement('li');\n",
              "    li.append(span(file.name, {fontWeight: 'bold'}));\n",
              "    li.append(span(\n",
              "        `(${file.type || 'n/a'}) - ${file.size} bytes, ` +\n",
              "        `last modified: ${\n",
              "            file.lastModifiedDate ? file.lastModifiedDate.toLocaleDateString() :\n",
              "                                    'n/a'} - `));\n",
              "    const percent = span('0% done');\n",
              "    li.appendChild(percent);\n",
              "\n",
              "    outputElement.appendChild(li);\n",
              "\n",
              "    const fileDataPromise = new Promise((resolve) => {\n",
              "      const reader = new FileReader();\n",
              "      reader.onload = (e) => {\n",
              "        resolve(e.target.result);\n",
              "      };\n",
              "      reader.readAsArrayBuffer(file);\n",
              "    });\n",
              "    // Wait for the data to be ready.\n",
              "    let fileData = yield {\n",
              "      promise: fileDataPromise,\n",
              "      response: {\n",
              "        action: 'continue',\n",
              "      }\n",
              "    };\n",
              "\n",
              "    // Use a chunked sending to avoid message size limits. See b/62115660.\n",
              "    let position = 0;\n",
              "    do {\n",
              "      const length = Math.min(fileData.byteLength - position, MAX_PAYLOAD_SIZE);\n",
              "      const chunk = new Uint8Array(fileData, position, length);\n",
              "      position += length;\n",
              "\n",
              "      const base64 = btoa(String.fromCharCode.apply(null, chunk));\n",
              "      yield {\n",
              "        response: {\n",
              "          action: 'append',\n",
              "          file: file.name,\n",
              "          data: base64,\n",
              "        },\n",
              "      };\n",
              "\n",
              "      let percentDone = fileData.byteLength === 0 ?\n",
              "          100 :\n",
              "          Math.round((position / fileData.byteLength) * 100);\n",
              "      percent.textContent = `${percentDone}% done`;\n",
              "\n",
              "    } while (position < fileData.byteLength);\n",
              "  }\n",
              "\n",
              "  // All done.\n",
              "  yield {\n",
              "    response: {\n",
              "      action: 'complete',\n",
              "    }\n",
              "  };\n",
              "}\n",
              "\n",
              "scope.google = scope.google || {};\n",
              "scope.google.colab = scope.google.colab || {};\n",
              "scope.google.colab._files = {\n",
              "  _uploadFiles,\n",
              "  _uploadFilesContinue,\n",
              "};\n",
              "})(self);\n",
              "</script> "
            ]
          },
          "metadata": {}
        },
        {
          "output_type": "stream",
          "name": "stdout",
          "text": [
            "Saving kaggle.json to kaggle.json\n"
          ]
        },
        {
          "output_type": "execute_result",
          "data": {
            "text/plain": [
              "{'kaggle.json': b'{\"username\":\"josealg\",\"key\":\"7a48c6e737bf20559554911d371a75bc\"}'}"
            ]
          },
          "metadata": {},
          "execution_count": 13
        }
      ],
      "source": [
        "from google.colab import files\n",
        "files.upload()"
      ]
    },
    {
      "cell_type": "code",
      "execution_count": null,
      "metadata": {
        "id": "XAA5jNgh-Ymp"
      },
      "outputs": [],
      "source": [
        "!pip install -q kaggle"
      ]
    },
    {
      "cell_type": "code",
      "execution_count": null,
      "metadata": {
        "id": "l0qF3_q7-vyM"
      },
      "outputs": [],
      "source": [
        "!mkdir -p ~/.kaggle #Create the directory\n",
        "!cp kaggle.json ~/.kaggle/\n",
        "!chmod 600 /root/.kaggle/kaggle.json\n",
        "!pwd #Print Working Directory\n",
        "!kaggle datasets download -d muhammadmuzamil5500/gemstones"
      ]
    },
    {
      "cell_type": "markdown",
      "metadata": {
        "id": "G_fwBEBT_7If"
      },
      "source": [
        "Convert dataset into a PyTorch dataset"
      ]
    },
    {
      "cell_type": "code",
      "source": [
        "!pip install keras"
      ],
      "metadata": {
        "colab": {
          "base_uri": "https://localhost:8080/"
        },
        "id": "vy3ZyrTJ3MdX",
        "outputId": "a3f6312a-5542-4d2e-b1a9-4bf3cc13e439"
      },
      "execution_count": 2,
      "outputs": [
        {
          "output_type": "stream",
          "name": "stdout",
          "text": [
            "Requirement already satisfied: keras in /usr/local/lib/python3.10/dist-packages (2.15.0)\n"
          ]
        }
      ]
    },
    {
      "cell_type": "markdown",
      "source": [],
      "metadata": {
        "id": "FyNk1Zqn01FV"
      }
    },
    {
      "cell_type": "code",
      "source": [
        "import tensorflow as tf\n",
        "from tensorflow.keras import layers, models\n",
        "from tensorflow.keras.preprocessing.image import ImageDataGenerator\n",
        "import matplotlib.pyplot as plt\n",
        "from sklearn.metrics import classification_report, confusion_matrix\n",
        "from tensorflow.keras.callbacks import EarlyStopping, ModelCheckpoint\n",
        "import os\n",
        "\n",
        "# Define the image size and channels\n",
        "img_size = (128, 128)\n",
        "channels = 3\n",
        "\n",
        "# Define the paths to your train, test, and validation folders\n",
        "train_path = \"/content/drive/MyDrive/FYP_Datasets/train\"\n",
        "test_path = \"/content/drive/MyDrive/FYP_Datasets/test\"\n",
        "validation_path = \"/content/drive/MyDrive/FYP_Datasets/validation\"\n",
        "\n",
        "# Create an ImageDataGenerator for data augmentation\n",
        "train_datagen = ImageDataGenerator(\n",
        "    rescale=1./255,\n",
        "    rotation_range=20,\n",
        "    width_shift_range=0.2,\n",
        "    height_shift_range=0.2,\n",
        "    shear_range=0.2,\n",
        "    zoom_range=0.2,\n",
        "    horizontal_flip=True,\n",
        "    fill_mode='nearest'\n",
        ")\n",
        "\n",
        "test_datagen = ImageDataGenerator(rescale=1./255)\n",
        "\n",
        "# Create data generators for training, testing, and validation\n",
        "train_generator = train_datagen.flow_from_directory(\n",
        "    train_path,\n",
        "    target_size=img_size,\n",
        "    batch_size=32,\n",
        "    class_mode='categorical'  # assuming multi-class classification\n",
        ")\n",
        "\n",
        "test_generator = test_datagen.flow_from_directory(\n",
        "    test_path,\n",
        "    target_size=img_size,\n",
        "    batch_size=32,\n",
        "    class_mode='categorical'\n",
        ")\n",
        "\n",
        "validation_generator = test_datagen.flow_from_directory(\n",
        "    validation_path,\n",
        "    target_size=img_size,\n",
        "    batch_size=32,\n",
        "    class_mode='categorical'\n",
        ")\n",
        "\n",
        "def build_model(model_filename):\n",
        "    # Define callbacks for early stopping and model checkpoint\n",
        "    early_stopping = EarlyStopping(monitor='val_loss', patience=3, restore_best_weights=True)\n",
        "\n",
        "    model = models.Sequential()\n",
        "    model.add(layers.Conv2D(16, (3, 3), activation='relu', kernel_regularizer=tf.keras.regularizers.l2(), input_shape=(img_size[0], img_size[1], channels)))\n",
        "    model.add(layers.MaxPooling2D((2, 2)))\n",
        "    model.add(layers.BatchNormalization())\n",
        "    model.add(layers.Dropout(0.15))\n",
        "\n",
        "    model.add(layers.Conv2D(32, (3, 3), activation='relu', kernel_regularizer=tf.keras.regularizers.l2()))\n",
        "    model.add(layers.MaxPooling2D((2, 2)))\n",
        "    model.add(layers.BatchNormalization())\n",
        "\n",
        "    model.add(layers.Conv2D(64, (3, 3), activation='relu', kernel_regularizer=tf.keras.regularizers.l2()))\n",
        "    model.add(layers.MaxPooling2D((2, 2)))\n",
        "    model.add(layers.BatchNormalization())\n",
        "    model.add(layers.Dropout(0.15))\n",
        "\n",
        "    model.add(layers.Conv2D(128, (3, 3), activation='relu', kernel_regularizer=tf.keras.regularizers.l2()))\n",
        "    model.add(layers.MaxPooling2D((2, 2)))\n",
        "\n",
        "\n",
        "    model.add(layers.Conv2D(256, (3, 3), activation='relu', kernel_regularizer=tf.keras.regularizers.l2()))\n",
        "    model.add(layers.MaxPooling2D((2, 2)))\n",
        "    model.add(layers.BatchNormalization())\n",
        "    model.add(layers.Dropout(0.15))\n",
        "\n",
        "    model.add(layers.Flatten())\n",
        "    model.add(layers.Dense(128, activation='relu'))\n",
        "    model.add(layers.Dense(len(train_generator.class_indices), activation='softmax'))\n",
        "\n",
        "    # Compile the model\n",
        "    model.compile(optimizer='adam',\n",
        "                  loss='categorical_crossentropy',\n",
        "                  metrics=['accuracy'])\n",
        "\n",
        "    return model, early_stopping\n",
        "\n",
        "\n",
        "# Check if the model file exists\n",
        "model_directory = '/content/drive/MyDrive/FYP_Datasets/CNN'\n",
        "model_filename = os.path.join(model_directory, 'last_model.h5')\n",
        "\n",
        "# Check if the model file exists\n",
        "if os.path.exists(model_filename):\n",
        "    # Load the existing model\n",
        "    model = tf.keras.models.load_model(model_filename)\n",
        "else:\n",
        "    # Build a new model\n",
        "    model, early_stopping, = build_model(model_filename)\n",
        "\n",
        "# Define callback for model checkpoint\n",
        "model_checkpoint = ModelCheckpoint(model_filename, monitor='loss', save_best_only=True, save_weights_only=False, save_freq=5)\n",
        "\n",
        "# Compile the model\n",
        "history = model.fit(\n",
        "    train_generator,\n",
        "    epochs=50,\n",
        "    validation_data=validation_generator,\n",
        "    callbacks=[early_stopping, model_checkpoint]\n",
        ")\n",
        "\n",
        "\n",
        "# Print accuracy, loss, recall, and precision\n",
        "train_loss, train_acc = model.evaluate(train_generator)\n",
        "val_loss, val_acc = model.evaluate(validation_generator)\n",
        "\n",
        "print(f\"Train Accuracy: {train_acc:.4f}, Train Loss: {train_loss:.4f}\")\n",
        "print(f\"Validation Accuracy: {val_acc:.4f}, Validation Loss: {val_loss:.4f}\")\n",
        "\n",
        "# Plot training history\n",
        "plt.plot(history.history['accuracy'], label='Train Accuracy')\n",
        "plt.plot(history.history['val_accuracy'], label='Validation Accuracy')\n",
        "plt.plot(history.history['loss'], label='Train Loss')\n",
        "plt.plot(history.history['val_loss'], label='Validation Loss')\n",
        "plt.xlabel('Epochs')\n",
        "plt.ylabel('Metrics')\n",
        "plt.legend()\n",
        "plt.show()\n",
        "\n",
        "# Evaluate the model on the test set\n",
        "test_loss, test_acc = model.evaluate(test_generator)\n",
        "print(f\"\\nTest Accuracy: {test_acc:.4f}, Test Loss: {test_loss:.4f}\")\n",
        "\n",
        "# Print predictions and true labels for five test elements\n",
        "test_generator.reset()\n",
        "predictions = model.predict(test_generator, steps=len(test_generator))\n",
        "true_labels = test_generator.classes\n",
        "\n",
        "print(\"\\nPredictions and True Labels for Five Test Elements:\")\n",
        "for i in range(5):\n",
        "    print(f\"Element {i + 1} - Predicted: {tf.argmax(predictions[i])}, True Label: {true_labels[i]}\")\n",
        "\n",
        "# Compute and print precision and recall\n",
        "predicted_labels = tf.argmax(predictions, axis=1)\n",
        "print(\"\\nClassification Report:\")\n",
        "print(classification_report(true_labels, predicted_labels))\n",
        "\n",
        "# Confusion Matrix\n",
        "conf_matrix = confusion_matrix(true_labels, predicted_labels)\n",
        "print(\"\\nConfusion Matrix:\")\n",
        "print(conf_matrix)"
      ],
      "metadata": {
        "id": "1w5oyx7D01iZ",
        "colab": {
          "base_uri": "https://localhost:8080/",
          "height": 1000
        },
        "outputId": "95c9c35e-1b16-499f-8c82-1704d3ecb59d"
      },
      "execution_count": 10,
      "outputs": [
        {
          "output_type": "stream",
          "name": "stdout",
          "text": [
            "Found 3040 images belonging to 6 classes.\n",
            "Found 1500 images belonging to 6 classes.\n",
            "Found 1500 images belonging to 6 classes.\n",
            "Epoch 1/50\n",
            " 5/95 [>.............................] - ETA: 15s - loss: 4.7175 - accuracy: 0.4625"
          ]
        },
        {
          "output_type": "stream",
          "name": "stderr",
          "text": [
            "/usr/local/lib/python3.10/dist-packages/keras/src/engine/training.py:3103: UserWarning: You are saving your model as an HDF5 file via `model.save()`. This file format is considered legacy. We recommend using instead the native Keras format, e.g. `model.save('my_model.keras')`.\n",
            "  saving_api.save_model(\n"
          ]
        },
        {
          "output_type": "stream",
          "name": "stdout",
          "text": [
            "95/95 [==============================] - 42s 393ms/step - loss: 3.5636 - accuracy: 0.7753 - val_loss: 5.1451 - val_accuracy: 0.1667\n",
            "Epoch 2/50\n",
            "95/95 [==============================] - 41s 433ms/step - loss: 2.3689 - accuracy: 0.8526 - val_loss: 5.9944 - val_accuracy: 0.1733\n",
            "Epoch 3/50\n",
            "95/95 [==============================] - 37s 392ms/step - loss: 1.5960 - accuracy: 0.8882 - val_loss: 4.0570 - val_accuracy: 0.3040\n",
            "Epoch 4/50\n",
            "95/95 [==============================] - 36s 385ms/step - loss: 1.1389 - accuracy: 0.9095 - val_loss: 2.7556 - val_accuracy: 0.3307\n",
            "Epoch 5/50\n",
            "95/95 [==============================] - 36s 380ms/step - loss: 0.9234 - accuracy: 0.9026 - val_loss: 2.2734 - val_accuracy: 0.4013\n",
            "Epoch 6/50\n",
            "95/95 [==============================] - 37s 384ms/step - loss: 0.7361 - accuracy: 0.9220 - val_loss: 1.5023 - val_accuracy: 0.5987\n",
            "Epoch 7/50\n",
            "95/95 [==============================] - 36s 381ms/step - loss: 0.6413 - accuracy: 0.9181 - val_loss: 1.1292 - val_accuracy: 0.7500\n",
            "Epoch 8/50\n",
            "95/95 [==============================] - 38s 398ms/step - loss: 0.5762 - accuracy: 0.9289 - val_loss: 2.4773 - val_accuracy: 0.4987\n",
            "Epoch 9/50\n",
            "95/95 [==============================] - 40s 419ms/step - loss: 0.4973 - accuracy: 0.9401 - val_loss: 1.8268 - val_accuracy: 0.5813\n",
            "Epoch 10/50\n",
            "95/95 [==============================] - 36s 384ms/step - loss: 0.5268 - accuracy: 0.9260 - val_loss: 0.9772 - val_accuracy: 0.8107\n",
            "Epoch 11/50\n",
            "95/95 [==============================] - 36s 384ms/step - loss: 0.4844 - accuracy: 0.9326 - val_loss: 1.2281 - val_accuracy: 0.6167\n",
            "Epoch 12/50\n",
            "95/95 [==============================] - 36s 376ms/step - loss: 0.4537 - accuracy: 0.9365 - val_loss: 1.9979 - val_accuracy: 0.5647\n",
            "Epoch 13/50\n",
            "95/95 [==============================] - 35s 370ms/step - loss: 0.3990 - accuracy: 0.9434 - val_loss: 0.9917 - val_accuracy: 0.7147\n",
            "95/95 [==============================] - 29s 306ms/step - loss: 0.6711 - accuracy: 0.8661\n",
            "47/47 [==============================] - 7s 146ms/step - loss: 0.9772 - accuracy: 0.8107\n",
            "Train Accuracy: 0.8661, Train Loss: 0.6711\n",
            "Validation Accuracy: 0.8107, Validation Loss: 0.9772\n"
          ]
        },
        {
          "output_type": "display_data",
          "data": {
            "text/plain": [
              "<Figure size 640x480 with 1 Axes>"
            ],
            "image/png": "[encoded data removed]"
          },
          "metadata": {}
        },
        {
          "output_type": "stream",
          "name": "stdout",
          "text": [
            "47/47 [==============================] - 8s 161ms/step - loss: 0.8284 - accuracy: 0.7973\n",
            "\n",
            "Test Accuracy: 0.7973, Test Loss: 0.8284\n",
            "47/47 [==============================] - 7s 155ms/step\n",
            "\n",
            "Predictions and True Labels for Five Test Elements:\n",
            "Element 1 - Predicted: 1, True Label: 0\n",
            "Element 2 - Predicted: 2, True Label: 0\n",
            "Element 3 - Predicted: 1, True Label: 0\n",
            "Element 4 - Predicted: 1, True Label: 0\n",
            "Element 5 - Predicted: 0, True Label: 0\n",
            "\n",
            "Classification Report:\n",
            "              precision    recall  f1-score   support\n",
            "\n",
            "           0       0.20      0.15      0.17       250\n",
            "           1       0.16      0.24      0.19       250\n",
            "           2       0.21      0.23      0.22       250\n",
            "           3       0.16      0.22      0.19       250\n",
            "           4       0.19      0.18      0.18       250\n",
            "           5       0.18      0.08      0.11       250\n",
            "\n",
            "    accuracy                           0.18      1500\n",
            "   macro avg       0.18      0.18      0.18      1500\n",
            "weighted avg       0.18      0.18      0.18      1500\n",
            "\n",
            "\n",
            "Confusion Matrix:\n",
            "[[38 67 43 41 43 18]\n",
            " [31 59 56 57 32 15]\n",
            " [25 51 58 62 33 21]\n",
            " [32 68 39 54 37 20]\n",
            " [33 67 40 53 44 13]\n",
            " [33 59 34 62 43 19]]\n"
          ]
        }
      ]
    }
  ],
  "metadata": {
    "accelerator": "GPU",
    "colab": {
      "provenance": [],
      "gpuType": "T4"
    },
    "kernelspec": {
      "display_name": "Python 3",
      "name": "python3"
    },
    "language_info": {
      "name": "python"
    }
  },
  "nbformat": 4,
  "nbformat_minor": 0
}